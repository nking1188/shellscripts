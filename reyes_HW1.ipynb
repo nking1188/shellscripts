{
  "nbformat": 4,
  "nbformat_minor": 0,
  "metadata": {
    "colab": {
      "provenance": [],
      "mount_file_id": "1ST0e-VGY15RXH76uEwIQUY4_vj-qZzpw",
      "authorship_tag": "ABX9TyPprlmce4j2xp7kDy9pprQU",
      "include_colab_link": true
    },
    "kernelspec": {
      "name": "python3",
      "display_name": "Python 3"
    },
    "language_info": {
      "name": "python"
    }
  },
  "cells": [
    {
      "cell_type": "markdown",
      "metadata": {
        "id": "view-in-github",
        "colab_type": "text"
      },
      "source": [
        "<a href=\"https://colab.research.google.com/github/nking1188/shellscripts/blob/master/reyes_HW1.ipynb\" target=\"_parent\"><img src=\"https://colab.research.google.com/assets/colab-badge.svg\" alt=\"Open In Colab\"/></a>"
      ]
    },
    {
      "cell_type": "code",
      "source": [
        "import pandas as pd\n",
        "\n",
        "google_drive_link = '/content/drive/MyDrive/Colab Notebooks/DATA/olympic_medals.csv'\n",
        "medals = pd.read_csv(google_drive_link)\n",
        "\n",
        "#a number of rows and columns\n",
        "num_rows, num_columns = medals.shape\n",
        "print(\"Number of rows:\", num_rows)\n",
        "print(\"Number of columns:\", num_columns)\n",
        "\n",
        "#b Report the data types for all columns\n",
        "data_types = medals.dtypes\n",
        "print(\"Data Types for Columns:\")\n",
        "print(data_types)\n",
        "\n",
        "#c Find the number of cities\n",
        "unique_cities = len(medals['Location'].unique())\n",
        "print(\"Number of unique cities matches were held at:\", unique_cities)\n",
        "\n",
        "#d Find how many medals the USA team won in total\n",
        "usa_total_medals = medals[medals['Nationality'] == 'USA']['Medal'].count()\n",
        "print(\"Total number of medals won by the USA team:\", usa_total_medals)\n",
        "\n",
        "#e Find the total number of medals for each Nationality\n",
        "total_medals_by_nationality = medals.groupby('Nationality')['Medal'].count()\n",
        "print(\"Total number of medals for each Nationality:\")\n",
        "print(total_medals_by_nationality)\n"
      ],
      "metadata": {
        "colab": {
          "base_uri": "https://localhost:8080/"
        },
        "id": "1Yow9TYXei7b",
        "outputId": "a8e8d734-7769-4f28-acd9-2405f52f1a81"
      },
      "execution_count": 9,
      "outputs": [
        {
          "output_type": "stream",
          "name": "stdout",
          "text": [
            "Number of rows: 2394\n",
            "Number of columns: 8\n",
            "Data Types for Columns:\n",
            "Gender         object\n",
            "Event          object\n",
            "Location       object\n",
            "Year            int64\n",
            "Medal          object\n",
            "Name           object\n",
            "Nationality    object\n",
            "Result         object\n",
            "dtype: object\n",
            "Number of unique cities matches were held at: 23\n",
            "Total number of medals won by the USA team: 638\n",
            "Total number of medals for each Nationality:\n",
            "Nationality\n",
            "ALG      9\n",
            "ARG      4\n",
            "AUS     57\n",
            "AUT      4\n",
            "BAH     12\n",
            "      ... \n",
            "URS    131\n",
            "USA    638\n",
            "VEN      2\n",
            "YUG      1\n",
            "ZAM      1\n",
            "Name: Medal, Length: 97, dtype: int64\n"
          ]
        }
      ]
    }
  ]
}